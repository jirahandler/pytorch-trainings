{
 "cells": [
  {
   "cell_type": "markdown",
   "id": "dc4cb007",
   "metadata": {},
   "source": [
    "## Environment Variables Setup (Standalone)\n",
    "Set up environment variables for MG5, LHAPDF, Pythia8, and Delphes. Run this cell before any MG5 commands."
   ]
  },
  {
   "cell_type": "code",
   "execution_count": null,
   "id": "cf1a7530",
   "metadata": {},
   "outputs": [],
   "source": [
    "%%bash\n",
    "# Adjust paths to your installations\n",
    "export MG5DIR=~/MG5_aMC_v3_6_3\n",
    "export LHAPDF_DATA_PATH=$MG5DIR/HEPTools/lhapdf6/share/LHAPDF\n",
    "export LD_LIBRARY_PATH=$MG5DIR/HEPTools/lhapdf6/lib:$LD_LIBRARY_PATH\n",
    "export PYTHIA8=$MG5DIR/HEPTools/pythia8\n",
    "export PYTHIA8DATA=$PYTHIA8/share/Pythia8/xmldoc\n",
    "export LD_LIBRARY_PATH=$PYTHIA8/lib:$LD_LIBRARY_PATH\n",
    "export DELPHES_DIR=$MG5DIR/Delphes\n",
    "export LD_LIBRARY_PATH=$DELPHES_DIR:$LD_LIBRARY_PATH\n",
    "echo \"Environment set up.\"\n"
   ]
  },
  {
   "cell_type": "markdown",
   "id": "a28215a1",
   "metadata": {},
   "source": [
    "## Multiparticle Definitions"
   ]
  },
  {
   "cell_type": "code",
   "execution_count": null,
   "id": "8c3cbc23",
   "metadata": {},
   "outputs": [],
   "source": [
    "%%bash\n",
    "$MG5DIR/bin/mg5_aMC << 'EOF'\n",
    "define p = p p~ g\n",
    "define j = g u c d s u~ c~ d~ s~\n",
    "define l+ = e+ mu+ ta+\n",
    "define l- = e- mu- ta-\n",
    "EOF\n"
   ]
  },
  {
   "cell_type": "markdown",
   "id": "8f7131f0",
   "metadata": {},
   "source": [
    "### Example: Basic Dilepton Production"
   ]
  },
  {
   "cell_type": "code",
   "execution_count": null,
   "id": "ed59c6fc",
   "metadata": {},
   "outputs": [],
   "source": [
    "%%bash\n",
    "$MG5DIR/bin/mg5_aMC << 'EOF'\n",
    "generate p p > e+ e-\n",
    "output example_dilepton\n",
    "launch\n",
    "EOF\n"
   ]
  },
  {
   "cell_type": "markdown",
   "id": "b55e3e3b",
   "metadata": {},
   "source": [
    "### Example: Remove Z in Drell–Yan"
   ]
  },
  {
   "cell_type": "code",
   "execution_count": null,
   "id": "f147c126",
   "metadata": {},
   "outputs": [],
   "source": [
    "%%bash\n",
    "$MG5DIR/bin/mg5_aMC << 'EOF'\n",
    "generate p p > e+ e- / z\n",
    "output example_dilepton_noZ\n",
    "launch\n",
    "EOF\n"
   ]
  },
  {
   "cell_type": "markdown",
   "id": "d35ea9a4",
   "metadata": {},
   "source": [
    "### Example: NLO QCD tt̄ Production"
   ]
  },
  {
   "cell_type": "code",
   "execution_count": null,
   "id": "0feb601c",
   "metadata": {},
   "outputs": [],
   "source": [
    "%%bash\n",
    "$MG5DIR/bin/mg5_aMC << 'EOF'\n",
    "generate p p > t t~ [QCD]\n",
    "output example_ttbar_NLO\n",
    "launch\n",
    "EOF\n"
   ]
  },
  {
   "cell_type": "markdown",
   "id": "3019dec6",
   "metadata": {},
   "source": [
    "### Example: MLM Jet Merging jj"
   ]
  },
  {
   "cell_type": "code",
   "execution_count": null,
   "id": "f1298fbc",
   "metadata": {},
   "outputs": [],
   "source": [
    "%%bash\n",
    "$MG5DIR/bin/mg5_aMC << 'EOF'\n",
    "generate p p > j j\n",
    "output example_jj_MLM\n",
    "launch\n",
    "set use_syst True\n",
    "set ickkw 1\n",
    "set xqcut 30\n",
    "EOF\n"
   ]
  },
  {
   "cell_type": "markdown",
   "id": "5c329e8e",
   "metadata": {},
   "source": [
    "### Example: Hadronic W Pair"
   ]
  },
  {
   "cell_type": "code",
   "execution_count": null,
   "id": "9a244fd3",
   "metadata": {},
   "outputs": [],
   "source": [
    "%%bash\n",
    "$MG5DIR/bin/mg5_aMC << 'EOF'\n",
    "generate p p > w+ w-, (w+ > j j), (w- > j j)\n",
    "output example_WW_hadronic\n",
    "launch\n",
    "EOF\n"
   ]
  },
  {
   "cell_type": "markdown",
   "id": "c6fc24fe",
   "metadata": {},
   "source": [
    "### Example: Leptonic W Pair"
   ]
  },
  {
   "cell_type": "code",
   "execution_count": null,
   "id": "544c61b7",
   "metadata": {},
   "outputs": [],
   "source": [
    "%%bash\n",
    "$MG5DIR/bin/mg5_aMC << 'EOF'\n",
    "generate p p > w+ w-, (w+ > l+ vl), (w- > l- vl~)\n",
    "output example_WW_leptonic\n",
    "launch\n",
    "EOF\n"
   ]
  },
  {
   "cell_type": "markdown",
   "id": "9a1215e6",
   "metadata": {},
   "source": [
    "### Example: Semi-Leptonic W Pair"
   ]
  },
  {
   "cell_type": "code",
   "execution_count": null,
   "id": "7e70540b",
   "metadata": {},
   "outputs": [],
   "source": [
    "%%bash\n",
    "$MG5DIR/bin/mg5_aMC << 'EOF'\n",
    "generate p p > w+ w-, (w+ > j j), (w- > l- vl~)\n",
    "output example_WW_semilepton\n",
    "launch\n",
    "EOF\n"
   ]
  },
  {
   "cell_type": "markdown",
   "id": "c81af2c6",
   "metadata": {},
   "source": [
    "### Example: Mixed tt̄ Decay"
   ]
  },
  {
   "cell_type": "code",
   "execution_count": null,
   "id": "7086bb58",
   "metadata": {},
   "outputs": [],
   "source": [
    "%%bash\n",
    "$MG5DIR/bin/mg5_aMC << 'EOF'\n",
    "generate p p > t t~, (t > b w+), (w+ > j j), (t~ > b~ w-), (w- > l- vl~)\n",
    "output example_ttbar_mixed\n",
    "launch\n",
    "EOF\n"
   ]
  },
  {
   "cell_type": "markdown",
   "id": "0fbf5dc0",
   "metadata": {},
   "source": [
    "### Example: MadSpin Spin Correlation"
   ]
  },
  {
   "cell_type": "code",
   "execution_count": null,
   "id": "648209f1",
   "metadata": {},
   "outputs": [],
   "source": [
    "%%bash\n",
    "# Prepare MadSpin in standalone\n",
    "mkdir -p example_ttbar_mixed && cd example_ttbar_mixed\n",
    "cat > Cards/madspin_card.dat << 'MS'\n",
    "set spinmode full\n",
    "define l+ = e+ mu+\n",
    "define l- = e- mu-\n",
    "decay t > b l+ vl\n",
    "decay t~ > b~ l- vl~\n",
    "launch\n",
    "MS\n",
    "$MG5DIR/bin/madspin Cards/madspin_card.dat\n"
   ]
  },
  {
   "cell_type": "markdown",
   "id": "1f48d510",
   "metadata": {},
   "source": [
    "### Example: Parameter Reweighting"
   ]
  },
  {
   "cell_type": "code",
   "execution_count": null,
   "id": "65b6f277",
   "metadata": {},
   "outputs": [],
   "source": [
    "%%bash\n",
    "# Standalone reweight for dilepton\n",
    "mkdir -p example_dilepton && cd example_dilepton\n",
    "cat > Cards/reweight_card.dat << 'EOF'\n",
    "change alpha_EM 0.00729735\n",
    "change MZ 91.1876\n",
    "launch\n",
    "EOF\n",
    "$MG5DIR/bin/mg5_aMC reweight_card.dat\n"
   ]
  },
  {
   "cell_type": "markdown",
   "id": "42ee87bd",
   "metadata": {},
   "source": [
    "### Example: Pythia8 Shower WW_leptonic"
   ]
  },
  {
   "cell_type": "code",
   "execution_count": null,
   "id": "bf2f9cb5",
   "metadata": {},
   "outputs": [],
   "source": [
    "%%bash\n",
    "mkdir -p example_WW_leptonic && cd example_WW_leptonic\n",
    "echo \"set shower=Pythia8\" >> Cards/run_card.dat\n",
    "$MG5DIR/bin/mg5_aMC << 'EOF'\n",
    "launch\n",
    "EOF\n"
   ]
  },
  {
   "cell_type": "markdown",
   "id": "830d70fd",
   "metadata": {},
   "source": [
    "### Example: Delphes Simulation WW_leptonic"
   ]
  },
  {
   "cell_type": "code",
   "execution_count": null,
   "id": "950a959b",
   "metadata": {},
   "outputs": [],
   "source": [
    "%%bash\n",
    "mkdir -p example_WW_leptonic && cd example_WW_leptonic\n",
    "echo \"set delphes=ON\" >> Cards/delphes_card.dat\n",
    "$MG5DIR/bin/mg5_aMC << 'EOF'\n",
    "launch\n",
    "EOF\n"
   ]
  },
  {
   "cell_type": "markdown",
   "id": "42d84bee",
   "metadata": {},
   "source": [
    "### Example: Loop-Induced gg→ZZ"
   ]
  },
  {
   "cell_type": "code",
   "execution_count": null,
   "id": "2f90f0f8",
   "metadata": {},
   "outputs": [],
   "source": [
    "%%bash\n",
    "$MG5DIR/bin/mg5_aMC << 'EOF'\n",
    "generate g g > Z Z [noborn=QCD]\n",
    "output example_ggZZ_loop\n",
    "launch\n",
    "EOF\n"
   ]
  },
  {
   "cell_type": "markdown",
   "id": "8de97e5b",
   "metadata": {},
   "source": [
    "### Example: NLO WW Production"
   ]
  },
  {
   "cell_type": "code",
   "execution_count": null,
   "id": "8b243e0b",
   "metadata": {},
   "outputs": [],
   "source": [
    "%%bash\n",
    "$MG5DIR/bin/mg5_aMC << 'EOF'\n",
    "generate p p > w+ w- [QCD]\n",
    "output example_WW_NLO\n",
    "launch\n",
    "EOF\n"
   ]
  },
  {
   "cell_type": "markdown",
   "id": "21774a86",
   "metadata": {},
   "source": [
    "### Example: EFT Parameter Scan"
   ]
  },
  {
   "cell_type": "code",
   "execution_count": null,
   "id": "9593d232",
   "metadata": {},
   "outputs": [],
   "source": [
    "%%bash\n",
    "# Scan MW\n",
    "for mw in 80 85 90; do\n",
    "  $MG5DIR/bin/mg5_aMC << 'EOF'\n",
    "set MW ${mw}\n",
    "generate p p > e+ e-\n",
    "output scan_MW_${mw}\n",
    "launch\n",
    "EOF\n",
    "done\n"
   ]
  },
  {
   "cell_type": "markdown",
   "id": "5ed8fa71",
   "metadata": {},
   "source": [
    "### Example: Reweight Scale/PDF Variations"
   ]
  },
  {
   "cell_type": "code",
   "execution_count": null,
   "id": "060ec052",
   "metadata": {},
   "outputs": [],
   "source": [
    "%%bash\n",
    "mkdir -p example_dilepton && cd example_dilepton\n",
    "# In run_card.dat: ensure reweight_scale and reweight_PDF are true\n",
    "sed -i 's/# reweight_scale/true/' Cards/run_card.dat\n",
    "sed -i 's/# reweight_PDF/true/' Cards/run_card.dat\n",
    "$MG5DIR/bin/mg5_aMC << 'EOF'\n",
    "launch\n",
    "EOF\n"
   ]
  },
  {
   "cell_type": "markdown",
   "id": "6df58a69",
   "metadata": {},
   "source": [
    "### Example: Define Custom Proton PDF"
   ]
  },
  {
   "cell_type": "code",
   "execution_count": null,
   "id": "d1a1f413",
   "metadata": {},
   "outputs": [],
   "source": [
    "%%bash\n",
    "%%bash\n",
    "$MG5DIR/bin/mg5_aMC << 'EOF'\n",
    "define p = u d c s u~ d~ c~ s~\n",
    "set lhapdf_pdf_set NNPDF31_lo_as_0130\n",
    "generate p p > j j\n",
    "output example_customPDF\n",
    "launch\n",
    "EOF\n"
   ]
  },
  {
   "cell_type": "markdown",
   "id": "1188edda",
   "metadata": {},
   "source": [
    "### Example: Decay Exclusion Syntax"
   ]
  },
  {
   "cell_type": "code",
   "execution_count": null,
   "id": "a9bf9668",
   "metadata": {},
   "outputs": [],
   "source": [
    "%%bash\n",
    "%%bash\n",
    "$MG5DIR/bin/mg5_aMC << 'EOF'\n",
    "generate p p > w+ w- / t\n",
    "output example_noTopContribution\n",
    "launch\n",
    "EOF\n"
   ]
  },
  {
   "cell_type": "markdown",
   "id": "036d35a8",
   "metadata": {},
   "source": [
    "### Example: Custom Delphes Card"
   ]
  },
  {
   "cell_type": "code",
   "execution_count": null,
   "id": "06311048",
   "metadata": {},
   "outputs": [],
   "source": [
    "%%bash\n",
    "# Run DelphesHepMC with a custom card externally\n",
    "$MG5DIR/Delphes/DelphesHepMC cards/delphes_card_CMS.tcl input.hepmc output.root\n"
   ]
  },
  {
   "cell_type": "markdown",
   "id": "17cc772a",
   "metadata": {},
   "source": [
    "## Analysis of Delphes Output (Standalone)"
   ]
  },
  {
   "cell_type": "code",
   "execution_count": null,
   "id": "82d4c134",
   "metadata": {},
   "outputs": [],
   "source": [
    "import uproot, awkward as ak, matplotlib.pyplot as plt\n",
    "file = uproot.open(\"example_ttbar_dilepton/Events/run_01/tag_1_delphes_events.root\")\n",
    "tree = file[\"Delphes\"]\n",
    "# plot jet pT histogram\n",
    "jets = ak.to_numpy(ak.flatten(tree[\"Jet.PT\"].array()))\n",
    "plt.hist(jets, bins=50)\n",
    "plt.title(\"Standalone Jet pT\")\n",
    "plt.show()"
   ]
  }
 ],
 "metadata": {},
 "nbformat": 4,
 "nbformat_minor": 5
}
